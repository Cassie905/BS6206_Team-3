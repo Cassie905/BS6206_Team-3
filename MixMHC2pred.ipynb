{
 "cells": [
  {
   "cell_type": "code",
   "execution_count": null,
   "metadata": {
    "colab": {
     "base_uri": "https://localhost:8080/"
    },
    "id": "DCTY-IHIiHBt",
    "outputId": "2ef891d8-9f87-4aa4-fa2b-c78d3492e537"
   },
   "outputs": [
    {
     "name": "stdout",
     "output_type": "stream",
     "text": [
      "Cloning into 'MixMHC2pred'...\n",
      "remote: Enumerating objects: 14073, done.\u001b[K\n",
      "remote: Counting objects: 100% (13937/13937), done.\u001b[K\n",
      "remote: Compressing objects: 100% (2475/2475), done.\u001b[K\n",
      "remote: Total 14073 (delta 11493), reused 13892 (delta 11455), pack-reused 136 (from 1)\u001b[K\n",
      "Receiving objects: 100% (14073/14073), 22.46 MiB | 7.63 MiB/s, done.\n",
      "Resolving deltas: 100% (11549/11549), done.\n",
      "/content/MixMHC2pred\n"
     ]
    }
   ],
   "source": [
    "!git clone https://github.com/GfellerLab/MixMHC2pred.git\n",
    "\n",
    "%cd MixMHC2pred"
   ]
  },
  {
   "cell_type": "code",
   "execution_count": null,
   "metadata": {
    "colab": {
     "base_uri": "https://localhost:8080/"
    },
    "id": "Nziamh1zixpD",
    "outputId": "bfa94829-933b-45a5-fda7-d29cc5a722e2"
   },
   "outputs": [
    {
     "name": "stdout",
     "output_type": "stream",
     "text": [
      "/content/MixMHC2pred/bin\n",
      "g++  -std=gnu++17 -O3 -Wall   -c -o MixMHC2pred.o ../src/MixMHC2pred.cpp\n",
      "g++  -std=gnu++17 -O3 -Wall   -c -o helper_MixMHC2pred.o ../src/helper_MixMHC2pred.cpp\n",
      "\u001b[01m\u001b[K../src/helper_MixMHC2pred.cpp:\u001b[m\u001b[K In function ‘\u001b[01m\u001b[Kvoid printPepResults(std::ofstream&, const std::vector<Peptide>&, bool, bool)\u001b[m\u001b[K’:\n",
      "\u001b[01m\u001b[K../src/helper_MixMHC2pred.cpp:600:33:\u001b[m\u001b[K \u001b[01;35m\u001b[Kwarning: \u001b[m\u001b[Kcomparison of integer expressions of different signedness: ‘\u001b[01m\u001b[Ksize_t\u001b[m\u001b[K’ {aka ‘\u001b[01m\u001b[Klong unsigned int\u001b[m\u001b[K’} and ‘\u001b[01m\u001b[Kint\u001b[m\u001b[K’ [\u001b[01;35m\u001b[K\u001b]8;;https://gcc.gnu.org/onlinedocs/gcc/Warning-Options.html#index-Wsign-compare\u0007-Wsign-compare\u001b]8;;\u0007\u001b[m\u001b[K]\n",
      "  600 |             for (size_t i(0); \u001b[01;35m\u001b[Ki < n_NA\u001b[m\u001b[K; i++) {\n",
      "      |                               \u001b[01;35m\u001b[K~~^~~~~~\u001b[m\u001b[K\n",
      "\u001b[01m\u001b[K../src/helper_MixMHC2pred.cpp:\u001b[m\u001b[K In function ‘\u001b[01m\u001b[Kvoid comp_pepScores(std::vector<Peptide>&, int, bool, std::string, std::set<int>&, const std::vector<std::__cxx11::basic_string<char> >&)\u001b[m\u001b[K’:\n",
      "\u001b[01m\u001b[K../src/helper_MixMHC2pred.cpp:172:9:\u001b[m\u001b[K \u001b[01;35m\u001b[Kwarning: \u001b[m\u001b[K‘\u001b[01m\u001b[KpepL_max_def\u001b[m\u001b[K’ may be used uninitialized in this function [\u001b[01;35m\u001b[K\u001b]8;;https://gcc.gnu.org/onlinedocs/gcc/Warning-Options.html#index-Wmaybe-uninitialized\u0007-Wmaybe-uninitialized\u001b]8;;\u0007\u001b[m\u001b[K]\n",
      "  172 |         \u001b[01;35m\u001b[KpepL_max_def\u001b[m\u001b[K, c_L_core, c_CS_upper_def, c_pepL_min_def, c_pepL_max_def;\n",
      "      |         \u001b[01;35m\u001b[K^~~~~~~~~~~~\u001b[m\u001b[K\n",
      "\u001b[01m\u001b[K../src/helper_MixMHC2pred.cpp:171:54:\u001b[m\u001b[K \u001b[01;35m\u001b[Kwarning: \u001b[m\u001b[K‘\u001b[01m\u001b[KL_core\u001b[m\u001b[K’ may be used uninitialized in this function [\u001b[01;35m\u001b[K\u001b]8;;https://gcc.gnu.org/onlinedocs/gcc/Warning-Options.html#index-Wmaybe-uninitialized\u0007-Wmaybe-uninitialized\u001b]8;;\u0007\u001b[m\u001b[K]\n",
      "  171 |         CS_up_cpep, cP1, nRandPep(0), nRandPep_perL, \u001b[01;35m\u001b[KL_core\u001b[m\u001b[K, CS_upper,\n",
      "      |                                                      \u001b[01;35m\u001b[K^~~~~~\u001b[m\u001b[K\n",
      "\u001b[01m\u001b[K../src/helper_MixMHC2pred.cpp:170:15:\u001b[m\u001b[K \u001b[01;35m\u001b[Kwarning: \u001b[m\u001b[K‘\u001b[01m\u001b[KpepL_min_def\u001b[m\u001b[K’ may be used uninitialized in this function [\u001b[01;35m\u001b[K\u001b]8;;https://gcc.gnu.org/onlinedocs/gcc/Warning-Options.html#index-Wmaybe-uninitialized\u0007-Wmaybe-uninitialized\u001b]8;;\u0007\u001b[m\u001b[K]\n",
      "  170 |     int pepL, \u001b[01;35m\u001b[KpepL_min_def\u001b[m\u001b[K, npep(peptides.size()), nAlleles,\n",
      "      |               \u001b[01;35m\u001b[K^~~~~~~~~~~~\u001b[m\u001b[K\n",
      "g++  -std=gnu++17 -O3 -Wall   -c -o helper_nnets.o ../src/helper_nnets.cpp\n",
      "g++  -std=gnu++17 -O3 -Wall   -c -o alleles_def.o ../src/alleles_def.cpp\n",
      "\u001b[01m\u001b[K../src/alleles_def.cpp:\u001b[m\u001b[K In function ‘\u001b[01m\u001b[Kstd::string allele_def_file(std::string, const std::vector<std::__cxx11::basic_string<char> >&)\u001b[m\u001b[K’:\n",
      "\u001b[01m\u001b[K../src/alleles_def.cpp:12:13:\u001b[m\u001b[K \u001b[01;35m\u001b[Kwarning: \u001b[m\u001b[Kcomparison of integer expressions of different signedness: ‘\u001b[01m\u001b[Kint\u001b[m\u001b[K’ and ‘\u001b[01m\u001b[Kstd::vector<std::__cxx11::basic_string<char> >::size_type\u001b[m\u001b[K’ {aka ‘\u001b[01m\u001b[Klong unsigned int\u001b[m\u001b[K’} [\u001b[01;35m\u001b[K\u001b]8;;https://gcc.gnu.org/onlinedocs/gcc/Warning-Options.html#index-Wsign-compare\u0007-Wsign-compare\u001b]8;;\u0007\u001b[m\u001b[K]\n",
      "   12 |     while(\u001b[01;35m\u001b[Ki < allelesDefFolders.size()\u001b[m\u001b[K){\n",
      "      |           \u001b[01;35m\u001b[K~~^~~~~~~~~~~~~~~~~~~~~~~~~~\u001b[m\u001b[K\n",
      "\u001b[01m\u001b[K../src/alleles_def.cpp:\u001b[m\u001b[K In function ‘\u001b[01m\u001b[Kvoid get_allele_def(std::string, const std::vector<std::__cxx11::basic_string<char> >&, const std::map<char, int>&, int&, std::vector<std::vector<std::vector<double> > >&, std::vector<double>&, std::vector<int>&, std::map<int, double>&, std::vector<std::map<int, std::map<int, double> > >&, int&, int&, int&, int&)\u001b[m\u001b[K’:\n",
      "\u001b[01m\u001b[K../src/alleles_def.cpp:97:26:\u001b[m\u001b[K \u001b[01;35m\u001b[Kwarning: \u001b[m\u001b[Kcomparison of integer expressions of different signedness: ‘\u001b[01m\u001b[Kint\u001b[m\u001b[K’ and ‘\u001b[01m\u001b[Ksize_t\u001b[m\u001b[K’ {aka ‘\u001b[01m\u001b[Klong unsigned int\u001b[m\u001b[K’} [\u001b[01;35m\u001b[K\u001b]8;;https://gcc.gnu.org/onlinedocs/gcc/Warning-Options.html#index-Wsign-compare\u0007-Wsign-compare\u001b]8;;\u0007\u001b[m\u001b[K]\n",
      "   97 |         for (int k(0); \u001b[01;35m\u001b[Kk < pars::n_aa\u001b[m\u001b[K; k++) {\n",
      "      |                        \u001b[01;35m\u001b[K~~^~~~~~~~~~~~\u001b[m\u001b[K\n",
      "gcc -c -o whereami.o ../external/whereami/src/whereami.c\n",
      "g++  -std=gnu++17 -O3 -Wall   -c -o helper_general.o ../src/helper_general.cpp\n",
      "g++  -std=gnu++17 -O3 -Wall  -static  -o ../MixMHC2pred_unix MixMHC2pred.o helper_MixMHC2pred.o helper_nnets.o alleles_def.o whereami.o helper_general.o\n"
     ]
    }
   ],
   "source": [
    "%cd bin\n",
    "\n",
    "!make"
   ]
  },
  {
   "cell_type": "code",
   "execution_count": null,
   "metadata": {
    "colab": {
     "base_uri": "https://localhost:8080/"
    },
    "id": "1yhspkfii3cI",
    "outputId": "76bc6da0-61f8-4b9c-8569-2eacfd0988e0"
   },
   "outputs": [
    {
     "name": "stdout",
     "output_type": "stream",
     "text": [
      "/content/MixMHC2pred\n"
     ]
    }
   ],
   "source": [
    "%cd .."
   ]
  },
  {
   "cell_type": "markdown",
   "metadata": {
    "id": "q1f5cZ5xjw4h"
   },
   "source": [
    "data\n",
    "\n",
    "---\n",
    "\n"
   ]
  },
  {
   "cell_type": "code",
   "execution_count": null,
   "metadata": {
    "colab": {
     "base_uri": "https://localhost:8080/",
     "height": 76
    },
    "id": "2ZTseF4LjwGu",
    "outputId": "ff4ef399-d0ef-46b7-ca8b-b84a0c3ef065"
   },
   "outputs": [
    {
     "data": {
      "text/html": [
       "\n",
       "     <input type=\"file\" id=\"files-95a705c2-c24f-4c6f-bcf0-86e775530b61\" name=\"files[]\" multiple disabled\n",
       "        style=\"border:none\" />\n",
       "     <output id=\"result-95a705c2-c24f-4c6f-bcf0-86e775530b61\">\n",
       "      Upload widget is only available when the cell has been executed in the\n",
       "      current browser session. Please rerun this cell to enable.\n",
       "      </output>\n",
       "      <script>// Copyright 2017 Google LLC\n",
       "//\n",
       "// Licensed under the Apache License, Version 2.0 (the \"License\");\n",
       "// you may not use this file except in compliance with the License.\n",
       "// You may obtain a copy of the License at\n",
       "//\n",
       "//      http://www.apache.org/licenses/LICENSE-2.0\n",
       "//\n",
       "// Unless required by applicable law or agreed to in writing, software\n",
       "// distributed under the License is distributed on an \"AS IS\" BASIS,\n",
       "// WITHOUT WARRANTIES OR CONDITIONS OF ANY KIND, either express or implied.\n",
       "// See the License for the specific language governing permissions and\n",
       "// limitations under the License.\n",
       "\n",
       "/**\n",
       " * @fileoverview Helpers for google.colab Python module.\n",
       " */\n",
       "(function(scope) {\n",
       "function span(text, styleAttributes = {}) {\n",
       "  const element = document.createElement('span');\n",
       "  element.textContent = text;\n",
       "  for (const key of Object.keys(styleAttributes)) {\n",
       "    element.style[key] = styleAttributes[key];\n",
       "  }\n",
       "  return element;\n",
       "}\n",
       "\n",
       "// Max number of bytes which will be uploaded at a time.\n",
       "const MAX_PAYLOAD_SIZE = 100 * 1024;\n",
       "\n",
       "function _uploadFiles(inputId, outputId) {\n",
       "  const steps = uploadFilesStep(inputId, outputId);\n",
       "  const outputElement = document.getElementById(outputId);\n",
       "  // Cache steps on the outputElement to make it available for the next call\n",
       "  // to uploadFilesContinue from Python.\n",
       "  outputElement.steps = steps;\n",
       "\n",
       "  return _uploadFilesContinue(outputId);\n",
       "}\n",
       "\n",
       "// This is roughly an async generator (not supported in the browser yet),\n",
       "// where there are multiple asynchronous steps and the Python side is going\n",
       "// to poll for completion of each step.\n",
       "// This uses a Promise to block the python side on completion of each step,\n",
       "// then passes the result of the previous step as the input to the next step.\n",
       "function _uploadFilesContinue(outputId) {\n",
       "  const outputElement = document.getElementById(outputId);\n",
       "  const steps = outputElement.steps;\n",
       "\n",
       "  const next = steps.next(outputElement.lastPromiseValue);\n",
       "  return Promise.resolve(next.value.promise).then((value) => {\n",
       "    // Cache the last promise value to make it available to the next\n",
       "    // step of the generator.\n",
       "    outputElement.lastPromiseValue = value;\n",
       "    return next.value.response;\n",
       "  });\n",
       "}\n",
       "\n",
       "/**\n",
       " * Generator function which is called between each async step of the upload\n",
       " * process.\n",
       " * @param {string} inputId Element ID of the input file picker element.\n",
       " * @param {string} outputId Element ID of the output display.\n",
       " * @return {!Iterable<!Object>} Iterable of next steps.\n",
       " */\n",
       "function* uploadFilesStep(inputId, outputId) {\n",
       "  const inputElement = document.getElementById(inputId);\n",
       "  inputElement.disabled = false;\n",
       "\n",
       "  const outputElement = document.getElementById(outputId);\n",
       "  outputElement.innerHTML = '';\n",
       "\n",
       "  const pickedPromise = new Promise((resolve) => {\n",
       "    inputElement.addEventListener('change', (e) => {\n",
       "      resolve(e.target.files);\n",
       "    });\n",
       "  });\n",
       "\n",
       "  const cancel = document.createElement('button');\n",
       "  inputElement.parentElement.appendChild(cancel);\n",
       "  cancel.textContent = 'Cancel upload';\n",
       "  const cancelPromise = new Promise((resolve) => {\n",
       "    cancel.onclick = () => {\n",
       "      resolve(null);\n",
       "    };\n",
       "  });\n",
       "\n",
       "  // Wait for the user to pick the files.\n",
       "  const files = yield {\n",
       "    promise: Promise.race([pickedPromise, cancelPromise]),\n",
       "    response: {\n",
       "      action: 'starting',\n",
       "    }\n",
       "  };\n",
       "\n",
       "  cancel.remove();\n",
       "\n",
       "  // Disable the input element since further picks are not allowed.\n",
       "  inputElement.disabled = true;\n",
       "\n",
       "  if (!files) {\n",
       "    return {\n",
       "      response: {\n",
       "        action: 'complete',\n",
       "      }\n",
       "    };\n",
       "  }\n",
       "\n",
       "  for (const file of files) {\n",
       "    const li = document.createElement('li');\n",
       "    li.append(span(file.name, {fontWeight: 'bold'}));\n",
       "    li.append(span(\n",
       "        `(${file.type || 'n/a'}) - ${file.size} bytes, ` +\n",
       "        `last modified: ${\n",
       "            file.lastModifiedDate ? file.lastModifiedDate.toLocaleDateString() :\n",
       "                                    'n/a'} - `));\n",
       "    const percent = span('0% done');\n",
       "    li.appendChild(percent);\n",
       "\n",
       "    outputElement.appendChild(li);\n",
       "\n",
       "    const fileDataPromise = new Promise((resolve) => {\n",
       "      const reader = new FileReader();\n",
       "      reader.onload = (e) => {\n",
       "        resolve(e.target.result);\n",
       "      };\n",
       "      reader.readAsArrayBuffer(file);\n",
       "    });\n",
       "    // Wait for the data to be ready.\n",
       "    let fileData = yield {\n",
       "      promise: fileDataPromise,\n",
       "      response: {\n",
       "        action: 'continue',\n",
       "      }\n",
       "    };\n",
       "\n",
       "    // Use a chunked sending to avoid message size limits. See b/62115660.\n",
       "    let position = 0;\n",
       "    do {\n",
       "      const length = Math.min(fileData.byteLength - position, MAX_PAYLOAD_SIZE);\n",
       "      const chunk = new Uint8Array(fileData, position, length);\n",
       "      position += length;\n",
       "\n",
       "      const base64 = btoa(String.fromCharCode.apply(null, chunk));\n",
       "      yield {\n",
       "        response: {\n",
       "          action: 'append',\n",
       "          file: file.name,\n",
       "          data: base64,\n",
       "        },\n",
       "      };\n",
       "\n",
       "      let percentDone = fileData.byteLength === 0 ?\n",
       "          100 :\n",
       "          Math.round((position / fileData.byteLength) * 100);\n",
       "      percent.textContent = `${percentDone}% done`;\n",
       "\n",
       "    } while (position < fileData.byteLength);\n",
       "  }\n",
       "\n",
       "  // All done.\n",
       "  yield {\n",
       "    response: {\n",
       "      action: 'complete',\n",
       "    }\n",
       "  };\n",
       "}\n",
       "\n",
       "scope.google = scope.google || {};\n",
       "scope.google.colab = scope.google.colab || {};\n",
       "scope.google.colab._files = {\n",
       "  _uploadFiles,\n",
       "  _uploadFilesContinue,\n",
       "};\n",
       "})(self);\n",
       "</script> "
      ],
      "text/plain": [
       "<IPython.core.display.HTML object>"
      ]
     },
     "metadata": {},
     "output_type": "display_data"
    },
    {
     "name": "stdout",
     "output_type": "stream",
     "text": [
      "Saving IEDB2.xlsx to IEDB2.xlsx\n"
     ]
    }
   ],
   "source": [
    "from google.colab import files\n",
    "uploaded = files.upload()"
   ]
  },
  {
   "cell_type": "code",
   "execution_count": null,
   "metadata": {
    "id": "PvSXFxOpjwXq"
   },
   "outputs": [],
   "source": [
    "import pandas as pd\n",
    "\n",
    "df = pd.read_excel('IEDB2.xlsx')\n",
    "\n",
    "peptides = df['Epitope - Name'].dropna().unique().tolist()\n",
    "\n",
    "with open('input.txt', 'w') as f:\n",
    "    for peptide in peptides:\n",
    "        f.write(f\"{peptide}\\n\")"
   ]
  },
  {
   "cell_type": "code",
   "execution_count": null,
   "metadata": {
    "colab": {
     "base_uri": "https://localhost:8080/"
    },
    "id": "SB1X7ompnfWW",
    "outputId": "a7a5ae94-9f9c-40c4-c043-a6e8c6ffb18e"
   },
   "outputs": [
    {
     "name": "stdout",
     "output_type": "stream",
     "text": [
      "原始等位基因名称：\n",
      "HLA-DRB1*10:01\n",
      "HLA-DRB1*07:01\n",
      "HLA-DRB1*04:04\n",
      "HLA-DRB1*09:01\n",
      "HLA-DQA1*01:02/DQB1*05:02\n",
      "HLA-DRB1*04:01\n",
      "HLA-DRB5*01:01\n",
      "HLA-DPA1*01:03/DPB1*03:01\n",
      "HLA-DRB1*15:01\n",
      "HLA-DPA1*01:03/DPB1*02:01\n",
      "HLA-DQA1*01:04/DQB1*05:03\n",
      "HLA-DQA1*05:01/DQB1*03:01\n",
      "HLA-DQA1*01:02/DQB1*06:02\n",
      "HLA-DRB4*01:01\n",
      "HLA-DRB1*11:01\n",
      "HLA-DQA1*05:01/DQB1*02:01\n",
      "HLA-DQA1*03:01/DQB1*03:02\n",
      "HLA-DRB1*13:02\n",
      "HLA-DPA1*02:01/DPB1*01:01\n",
      "HLA-DRB3*02:02\n",
      "HLA-DRB1*12:01\n",
      "HLA-DQA1*01:02/DQB1*05:01\n",
      "HLA-DRB1*01:01\n",
      "HLA-DPA1*01:03/DPB1*04:01\n",
      "HLA-DRB1*04:05\n",
      "HLA-DRB3*01:01\n",
      "HLA-DRB1*03:01\n",
      "HLA-DPA1*03:01/DPB1*04:02\n",
      "HLA-DRB1*15:02\n",
      "HLA-DRB1*08:02\n",
      "HLA-DQA1*01:01/DQB1*05:01\n",
      "HLA-DRB1*16:02\n",
      "HLA-DRB3*03:01\n",
      "HLA-DPA1*02:01/DPB1*05:01\n",
      "HLA-DQA1*01:03/DQB1*06:03\n"
     ]
    }
   ],
   "source": [
    "alleles = df['MHC Restriction - Name'].dropna().unique().tolist()\n",
    "\n",
    "print(\"原始等位基因名称：\")\n",
    "for allele in alleles:\n",
    "    print(allele)"
   ]
  },
  {
   "cell_type": "code",
   "execution_count": null,
   "metadata": {
    "id": "t1ifxdCyT2Q_"
   },
   "outputs": [],
   "source": [
    "def convert_allele_name(allele):\n",
    "    # Remove the prefix 'HLA-' and spaces\n",
    "    allele = allele.replace('HLA-', '').strip()\n",
    "\n",
    "    # Common abbreviations for special processing\n",
    "    allele_replacements = {\n",
    "        'DR1': 'DRB1_01_01',\n",
    "        'DR15': 'DRB1_15_01',\n",
    "        'DR11': 'DRB1_11_01',\n",
    "        'DR13': 'DRB1_13_01',\n",
    "        'DR7': 'DRB1_07_01',\n",
    "        'DR3': 'DRB1_03_01',\n",
    "        'DR4': 'DRB1_04_01',\n",
    "        'DR8': 'DRB1_08_01',\n",
    "        'DR2': 'DRB1_15_01',\n",
    "        'DR5': 'DRB1_11_01',\n",
    "        'DR6': 'DRB1_13_01',\n",
    "        'DR9': 'DRB1_09_01',\n",
    "        'DQ2': 'DQA1_05_01__DQB1_02_01',\n",
    "        'DQ5': 'DQA1_01_01__DQB1_05_01',\n",
    "        'DQ6': 'DQA1_01_02__DQB1_06_02',\n",
    "\n",
    "    }\n",
    "\n",
    "    return allele"
   ]
  },
  {
   "cell_type": "code",
   "execution_count": null,
   "metadata": {
    "id": "jcL27PuvkE-J"
   },
   "outputs": [],
   "source": [
    "def convert_allele_name(allele):\n",
    "    allele = allele.replace('HLA-', '').strip()\n",
    "\n",
    "    allele_replacements = {\n",
    "        'DR1': 'DRB1_01_01',\n",
    "        'DR15': 'DRB1_15_01',\n",
    "        'DR11': 'DRB1_11_01',\n",
    "        'DR13': 'DRB1_13_01',\n",
    "        'DR7': 'DRB1_07_01',\n",
    "        'DR3': 'DRB1_03_01',\n",
    "        'DR4': 'DRB1_04_01',\n",
    "        'DR8': 'DRB1_08_01',\n",
    "        'DR2': 'DRB1_15_01',  \n",
    "        'DR5': 'DRB1_11_01',  \n",
    "        'DR6': 'DRB1_13_01',  \n",
    "        'DR9': 'DRB1_09_01',\n",
    "        'DR12': 'DRB1_12_01',\n",
    "        'DR14': 'DRB1_14_01',\n",
    "        'DR17': 'DRB1_03_01',  \n",
    "        'DR52': 'DRB3_01_01',\n",
    "        'DR53': 'DRB4_01_01',\n",
    "        'DRB5': 'DRB5_01_01',\n",
    "        'DQ1': None,  \n",
    "        'DQ2': 'DQA1_05_01__DQB1_02_01',\n",
    "        'DQ5': 'DQA1_01_01__DQB1_05_01',\n",
    "        'DQ6': 'DQA1_01_02__DQB1_06_02',\n",
    "        'DQ7': 'DQA1_03_01__DQB1_03_01',\n",
    "        'DQ8': 'DQA1_03_01__DQB1_03_02',\n",
    "        'DQ9': 'DQA1_03_02__DQB1_03_03',\n",
    "    }\n",
    "\n",
    "    if allele in allele_replacements:\n",
    "        return allele_replacements[allele]\n",
    "\n",
    "    if 'mutant' in allele or 'mut' in allele:\n",
    "        allele = allele.split()[0]\n",
    "\n",
    "    if '/' in allele:\n",
    "        chains = allele.split('/')\n",
    "\n",
    "        chains = [chain for chain in chains if not chain.startswith('DRA*')]\n",
    "\n",
    "        converted_chains = []\n",
    "        for chain in chains:\n",
    "            chain = chain.strip()\n",
    "            chain = chain.replace('*', '_').replace(':', '_').replace('-', '_').replace(' ', '_')\n",
    "            converted_chains.append(chain)\n",
    "\n",
    "        return '__'.join(converted_chains)\n",
    "\n",
    "    allele = allele.replace('*', '_').replace(':', '_').replace('-', '_').replace(' ', '_')\n",
    "\n",
    "    if allele in ['DRB1', 'DR', 'DP', 'DQ', 'Class_II', 'class_II']:\n",
    "        return None\n",
    "\n",
    "    return allele"
   ]
  },
  {
   "cell_type": "code",
   "execution_count": null,
   "metadata": {
    "colab": {
     "base_uri": "https://localhost:8080/"
    },
    "id": "d0n3Yl7voC9u",
    "outputId": "3727f2c4-ba03-481c-fcd5-06deb95165ab"
   },
   "outputs": [
    {
     "name": "stdout",
     "output_type": "stream",
     "text": [
      "转换后的等位基因名称：\n",
      "DRB1_03_01\n",
      "DRB1_12_01\n",
      "DQA1_01_04__DQB1_05_03\n",
      "DPA1_03_01__DPB1_04_02\n",
      "DPA1_01_03__DPB1_04_01\n",
      "DRB1_11_01\n",
      "DQA1_01_02__DQB1_05_01\n",
      "DQA1_03_01__DQB1_03_02\n",
      "DRB3_01_01\n",
      "DRB5_01_01\n",
      "DQA1_01_02__DQB1_05_02\n",
      "DRB1_04_01\n",
      "DRB1_04_05\n",
      "DRB1_10_01\n",
      "DPA1_01_03__DPB1_02_01\n",
      "DRB4_01_01\n",
      "DRB1_16_02\n",
      "DRB1_15_01\n",
      "DRB3_02_02\n",
      "DRB1_07_01\n",
      "DPA1_01_03__DPB1_03_01\n",
      "DQA1_05_01__DQB1_03_01\n",
      "DRB1_01_01\n",
      "DQA1_01_01__DQB1_05_01\n",
      "DRB1_09_01\n",
      "DRB1_15_02\n",
      "DQA1_05_01__DQB1_02_01\n",
      "DPA1_02_01__DPB1_05_01\n",
      "DQA1_01_02__DQB1_06_02\n",
      "DPA1_02_01__DPB1_01_01\n",
      "DRB3_03_01\n",
      "DQA1_01_03__DQB1_06_03\n",
      "DRB1_08_02\n",
      "DRB1_04_04\n",
      "DRB1_13_02\n"
     ]
    }
   ],
   "source": [
    "converted_alleles = []\n",
    "unsupported_alleles = []\n",
    "\n",
    "for a in alleles:\n",
    "    converted = convert_allele_name(a)\n",
    "    if converted:\n",
    "        converted_alleles.append(converted)\n",
    "    else:\n",
    "        unsupported_alleles.append(a)\n",
    "\n",
    "converted_alleles = list(set(converted_alleles))\n",
    "\n",
    "print(\"转换后的等位基因名称：\")\n",
    "for allele in converted_alleles:\n",
    "    print(allele)"
   ]
  },
  {
   "cell_type": "code",
   "execution_count": null,
   "metadata": {
    "id": "uUALcPaxozf7"
   },
   "outputs": [],
   "source": [
    "!find . -name \"Alleles_list.txt\""
   ]
  },
  {
   "cell_type": "code",
   "execution_count": null,
   "metadata": {
    "id": "u6rI5lGQdjIF"
   },
   "outputs": [],
   "source": [
    "with open('Alleles_list_Human.txt', 'r') as f:\n",
    "    supported_alleles = [line.strip().split() for line in f]"
   ]
  },
  {
   "cell_type": "code",
   "execution_count": null,
   "metadata": {
    "colab": {
     "base_uri": "https://localhost:8080/"
    },
    "id": "SmY_lhwCaez4",
    "outputId": "8ae4d550-5758-4816-d0a4-2e8687266291"
   },
   "outputs": [
    {
     "name": "stdout",
     "output_type": "stream",
     "text": [
      "                      Allele\n",
      "0                       List\n",
      "1                     coming\n",
      "2                       None\n",
      "3                 AlleleName\n",
      "4                 DRB1_01_01\n",
      "...                      ...\n",
      "6505  DQA1_05_09__DQB1_06_99\n",
      "6506  DQA1_05_11__DQB1_06_99\n",
      "6507  DQA1_05_13__DQB1_06_99\n",
      "6508  DQA1_05_14__DQB1_06_99\n",
      "6509  DQA1_06_01__DQB1_06_99\n",
      "\n",
      "[6510 rows x 1 columns]\n"
     ]
    }
   ],
   "source": [
    "df = pd.DataFrame(supported_alleles)\n",
    "\n",
    "first_column = df.iloc[:, 0]\n",
    "first_column = first_column.to_frame()\n",
    "first_column.columns = ['Allele']\n",
    "print(first_column)"
   ]
  },
  {
   "cell_type": "code",
   "execution_count": null,
   "metadata": {
    "colab": {
     "base_uri": "https://localhost:8080/"
    },
    "id": "d6TB7-jVaFEf",
    "outputId": "01992c79-4605-42b4-c07f-39f4ec2fd1e8"
   },
   "outputs": [
    {
     "name": "stdout",
     "output_type": "stream",
     "text": [
      "<class 'list'>\n",
      "                     Allele\n",
      "0    DQA1_01_02__DQB1_02_01\n",
      "1    DQA1_04_01__DQB1_04_02\n",
      "2                DRB1_15_01\n",
      "3    DQA1_01_02__DQB1_06_04\n",
      "4    DQA1_01_02__DQB1_06_03\n",
      "..                      ...\n",
      "136  DQA1_01_02__DQB1_05_02\n",
      "137  DQA1_04_01__DQB1_03_01\n",
      "138              DRB1_04_07\n",
      "139  DQA1_03_02__DQB1_03_03\n",
      "140  DPA1_01_03__DPB1_04_01\n",
      "\n",
      "[141 rows x 1 columns]\n"
     ]
    }
   ],
   "source": [
    "print(type(converted_alleles))\n",
    "allele_df = pd.DataFrame(converted_alleles, columns=['Allele'])\n",
    "overlap = pd.merge(allele_df, first_column)\n",
    "print(overlap)"
   ]
  },
  {
   "cell_type": "code",
   "execution_count": null,
   "metadata": {
    "id": "Z5hI4olh4jQT"
   },
   "outputs": [],
   "source": [
    "cd /d D:\\2-semester\\6206"
   ]
  },
  {
   "cell_type": "code",
   "execution_count": null,
   "metadata": {
    "colab": {
     "base_uri": "https://localhost:8080/"
    },
    "id": "4WLSx4C5u9LA",
    "outputId": "9d11031e-fe80-4f77-ceb0-d2cd58028b61"
   },
   "outputs": [
    {
     "name": "stdout",
     "output_type": "stream",
     "text": [
      "/bin/bash: line 1: MixMHC2pred: command not found\n"
     ]
    }
   ],
   "source": [
    "!MixMHC2pred -i D:\\2-semester\\6206\\input2.txt -o D:\\2-semester\\6206\\output_file.xlsx -a DPA1_01_03__DPB1_04_01 DQA1_01_02__DQB1_03_01 DQA1_01_02__DQB1_06_02 DQA1_05_05__DQB1_06_02 DQA1_05_05__DQB1_03_01 DRB1_11_01 DRB1_15_01 --no_context"
   ]
  },
  {
   "cell_type": "code",
   "execution_count": null,
   "metadata": {
    "id": "bha_Mgo93Zd3"
   },
   "outputs": [],
   "source": [
    "MixMHC2pred -i D:\\2-semester\\6206\\input_epitopes(1).txt -o D:\\2-semester\\6206\\output_file.txt -a DRB1_15_01 DQA1_01_01__DQB1_03_01 DPA1_01_03__DPB1_04_01 --no_context"
   ]
  },
  {
   "cell_type": "code",
   "execution_count": null,
   "metadata": {},
   "outputs": [],
   "source": []
  }
 ],
 "metadata": {
  "colab": {
   "provenance": []
  },
  "kernelspec": {
   "display_name": "Python 3 (ipykernel)",
   "language": "python",
   "name": "python3"
  },
  "language_info": {
   "codemirror_mode": {
    "name": "ipython",
    "version": 3
   },
   "file_extension": ".py",
   "mimetype": "text/x-python",
   "name": "python",
   "nbconvert_exporter": "python",
   "pygments_lexer": "ipython3",
   "version": "3.9.12"
  }
 },
 "nbformat": 4,
 "nbformat_minor": 1
}

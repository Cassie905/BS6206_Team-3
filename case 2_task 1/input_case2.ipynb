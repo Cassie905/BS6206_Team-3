{
 "cells": [
  {
   "cell_type": "markdown",
   "id": "68af7757",
   "metadata": {},
   "source": [
    "# Use case 2_task 1"
   ]
  },
  {
   "cell_type": "markdown",
   "id": "b8aac314",
   "metadata": {},
   "source": [
    "Save the input as an appropriate form for netMHCIIpan."
   ]
  },
  {
   "cell_type": "code",
   "execution_count": null,
   "id": "e34fe25f",
   "metadata": {},
   "outputs": [],
   "source": [
    "# For netMHCIIpan\n",
    "with open('E:/NTU/Course/6206/W5/extracted_peptides_length_20.txt', 'r') as file:\n",
    "    lines = file.readlines()\n",
    "\n",
    "# Initialize variables\n",
    "output = []\n",
    "mutation_info = \"\"\n",
    "sequence_lines = []\n",
    "\n",
    "for line in lines:\n",
    "    line = line.strip()  # Remove leading/trailing whitespace\n",
    "    \n",
    "    if line.startswith('>'):\n",
    "        # If a new header line is encountered, process the previous block if it contained mutation info\n",
    "        if mutation_info and sequence_lines:\n",
    "            output.append(f\">{mutation_info}\")  # Add the mutation header (single '>')\n",
    "            output.extend(sequence_lines)       # Add the sequences\n",
    "        # Reset variables for the new block\n",
    "        mutation_info = line.lstrip(\">\") if \"protein-altering\" in line else \"\"  # Remove extra '>'\n",
    "        sequence_lines = []\n",
    "    \n",
    "    elif \"Mutation Type\" in line or \"No valid mutation detected.\" in line: # Skip lines with \"Mutation Type\" or \"No valid mutation detected.\"\n",
    "        continue\n",
    "    \n",
    "    elif mutation_info:  # Only collect sequences if mutation info is valid\n",
    "        sequence_lines.append(line)\n",
    "\n",
    "# Process the final block if mutation info exists\n",
    "if mutation_info and sequence_lines:\n",
    "    output.append(f\">{mutation_info}\")\n",
    "    output.extend(sequence_lines)\n",
    "\n",
    "with open('E:/NTU/Course/6206/W5/input_len_20.txt', 'w') as file:\n",
    "    file.write(\"\\n\".join(output))"
   ]
  },
  {
   "cell_type": "code",
   "execution_count": null,
   "id": "d3a4f214",
   "metadata": {},
   "outputs": [],
   "source": [
    "with open('E:/NTU/Course/6206/W5/input_len_20.txt', 'r') as file:\n",
    "    lines = file.readlines()\n",
    "\n",
    "output = []\n",
    "sequence_lines = []\n",
    "\n",
    "for line in lines:\n",
    "    line = line.strip()\n",
    "    \n",
    "    if line.startswith('>'):\n",
    "        continue\n",
    "    elif line:  \n",
    "        sequence_lines.append(line)\n",
    "\n",
    "# Create the new FASTA format with \">0\" headers\n",
    "for sequence in sequence_lines:\n",
    "    output.append(\">0\")\n",
    "    output.append(sequence)\n",
    "\n",
    "with open('E:/NTU/Course/6206/W5/input_len_20.fasta', 'w') as file:\n",
    "    file.write(\"\\n\".join(output))"
   ]
  },
  {
   "cell_type": "code",
   "execution_count": null,
   "id": "1b13bb6a",
   "metadata": {},
   "outputs": [],
   "source": [
    "# Modify the FASTA file to have unique identifiers for each sequence\n",
    "\n",
    "input_file = \"E:/NTU/Course/6206/W5/input_len_20.fasta\"\n",
    "output_file = \"E:/360Downloads/Software/WSL/netMHCpan/netMHCIIpan-4.3/input_len_20.fasta\"\n",
    "\n",
    "# Process and assign unique identifiers\n",
    "with open(input_file, 'r') as infile:\n",
    "    lines = infile.readlines()\n",
    "\n",
    "unique_lines = []\n",
    "counter = 1\n",
    "\n",
    "for line in lines:\n",
    "    if line.startswith(\">\"): \n",
    "        unique_lines.append(f\">peptide{counter}\\n\")\n",
    "        counter += 1\n",
    "    else:  # Sequence line\n",
    "        unique_lines.append(line.strip() + '\\n')\n",
    "\n",
    "with open(output_file, 'w') as outfile:\n",
    "    outfile.writelines(unique_lines)"
   ]
  },
  {
   "cell_type": "markdown",
   "id": "afa7d42f",
   "metadata": {},
   "source": [
    "Code in netMHCIIpan"
   ]
  },
  {
   "cell_type": "code",
   "execution_count": null,
   "id": "9f327214",
   "metadata": {},
   "outputs": [],
   "source": [
    "# peptides of length 15\n",
    "cd /mnt/e/360Downloads/Software/WSL/netMHCpan/netMHCIIpan-4.3\n",
    "# DRB1\n",
    "./netMHCIIpan -a DRB1_15101 -f input_len_15.fasta -xls -xlsfile W7/net_DRB1_150101.txt -BA -inptype 1\n",
    "./netMHCIIpan -a DRB1_11101 -f input_len_15.fasta -xls -xlsfile W7/net_DRB1_110101.txt -BA -inptype 1\n",
    "\n",
    "# DQ\n",
    "./netMHCIIpan -a HLA-DQA10505-DQB10602 -f input_len_15.fasta -xls -xlsfile W7/net_DQA10505_DQB10602.txt -BA -inptype 1\n",
    "./netMHCIIpan -a HLA-DQA10505-DQB10301 -f input_len_15.fasta -xls -xlsfile W7/net_DQA10505-DQB10301.txt -BA -inptype 1\n",
    "./netMHCIIpan -a HLA-DQA10102-DQB10602 -f input_len_15.fasta -xls -xlsfile W7/net_DQA10102-DQB10602.txt -BA -inptype 1\n",
    "./netMHCIIpan -a HLA-DQA10102-DQB10301 -f input_len_15.fasta -xls -xlsfile W7/net_DQA10102-DQB10301.txt -BA -inptype 1\n",
    "\n",
    "# DP\n",
    "./netMHCIIpan -a HLA-DPA10103-DPB10401 -f input_len_15.fasta -xls -xlsfile W7/net_DPA10103_DPB10401.txt -BA -inptype 1"
   ]
  },
  {
   "cell_type": "code",
   "execution_count": null,
   "id": "0edb2763",
   "metadata": {},
   "outputs": [],
   "source": [
    "# length 20\n",
    "# DRB1\n",
    "./netMHCIIpan -a DRB1_15101 -f input_len_20.fasta -xls -xlsfile W7/length_20/net_DRB1_150101.txt -BA -inptype 1\n",
    "./netMHCIIpan -a DRB1_11101 -f input_len_20.fasta -xls -xlsfile W7/length_20/net_DRB1_110101.txt -BA -inptype 1\n",
    "\n",
    "# DQ\n",
    "./netMHCIIpan -a HLA-DQA10505-DQB10602 -f input_len_20.fasta -xls -xlsfile W7/length_20/net_DQA10505_DQB10602.txt -BA -inptype 1\n",
    "./netMHCIIpan -a HLA-DQA10505-DQB10301 -f input_len_20.fasta -xls -xlsfile W7/length_20/net_DQA10505-DQB10301.txt -BA -inptype 1\n",
    "./netMHCIIpan -a HLA-DQA10102-DQB10602 -f input_len_20.fasta -xls -xlsfile W7/length_20/net_DQA10102-DQB10602.txt -BA -inptype 1\n",
    "./netMHCIIpan -a HLA-DQA10102-DQB10301 -f input_len_20.fasta -xls -xlsfile W7/length_20/net_DQA10102-DQB10301.txt -BA -inptype 1\n",
    "\n",
    "# DP\n",
    "./netMHCIIpan -a HLA-DPA10103-DPB10401 -f input_len_20.fasta -xls -xlsfile W7/length_20/net_DPA10103_DPB10401.txt -BA -inptype 1"
   ]
  }
 ],
 "metadata": {
  "kernelspec": {
   "display_name": "Python 3 (ipykernel)",
   "language": "python",
   "name": "python3"
  },
  "language_info": {
   "codemirror_mode": {
    "name": "ipython",
    "version": 3
   },
   "file_extension": ".py",
   "mimetype": "text/x-python",
   "name": "python",
   "nbconvert_exporter": "python",
   "pygments_lexer": "ipython3",
   "version": "3.9.12"
  }
 },
 "nbformat": 4,
 "nbformat_minor": 5
}

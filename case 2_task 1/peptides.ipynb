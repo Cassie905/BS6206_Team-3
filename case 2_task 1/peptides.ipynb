{
 "cells": [
  {
   "cell_type": "markdown",
   "metadata": {},
   "source": [
    "# Use case 2"
   ]
  },
  {
   "cell_type": "markdown",
   "metadata": {},
   "source": [
    "Task 1"
   ]
  },
  {
   "cell_type": "code",
   "execution_count": null,
   "metadata": {},
   "outputs": [],
   "source": [
    "# Code for annovar\n",
    "# Generate protein sequences with annovar\n",
    "cd /mnt/e/360Downloads/Software/WSL/annovar\n",
    "tar -xvzf annovar.latest.tar.gz\n",
    "ls –ltr\n",
    "ls ./annovar/\n",
    "vim test.vcf\n",
    "\n",
    "./annovar/convert2annovar.pl -format vcf4 test.vcf > test_annovar.avinput  # given in slide\n",
    "ls -ltr\n",
    "less test_annovar.avinput  # View the file content\n",
    "\n",
    "./annovar/table_annovar.pl test_annovar.avinput ./annovar/humandb/ -buildver hg19 -out test_annovar -protocol refGene -operation g -polish # given in slide\n",
    "ls -ltr\n",
    "less test_annovar.refGene.exonic_variant_function\n",
    "\n",
    "./annovar/coding_change.pl test_annovar.refGene.exonic_variant_function ./annovar/humandb/hg19_refGene.txt ./annovar/humandb/hg19_refGeneMrna.fa -includesnp -onlyAltering > test_annovar.mutated_protein.fasta\n",
    "ls -ltr\n",
    "less test_annovar.mutated_protein.fasta"
   ]
  },
  {
   "cell_type": "code",
   "execution_count": null,
   "metadata": {
    "colab": {
     "base_uri": "https://localhost:8080/"
    },
    "id": "B_Hr4604zR3Z",
    "outputId": "966c5b2f-952c-4a30-809e-7777c500f7e2"
   },
   "outputs": [
    {
     "name": "stdout",
     "output_type": "stream",
     "text": [
      "Collecting biopython\n",
      "  Downloading biopython-1.84-cp310-cp310-manylinux_2_17_x86_64.manylinux2014_x86_64.whl.metadata (12 kB)\n",
      "Requirement already satisfied: numpy in /usr/local/lib/python3.10/dist-packages (from biopython) (1.26.4)\n",
      "Downloading biopython-1.84-cp310-cp310-manylinux_2_17_x86_64.manylinux2014_x86_64.whl (3.2 MB)\n",
      "\u001b[?25l   \u001b[90m━━━━━━━━━━━━━━━━━━━━━━━━━━━━━━━━━━━━━━━━\u001b[0m \u001b[32m0.0/3.2 MB\u001b[0m \u001b[31m?\u001b[0m eta \u001b[36m-:--:--\u001b[0m\r",
      "\u001b[2K   \u001b[91m━━━━━━━━━━━━━━━━━━━━━━━━━━━━━━━━━━━━━━━\u001b[0m\u001b[91m╸\u001b[0m \u001b[32m3.2/3.2 MB\u001b[0m \u001b[31m153.4 MB/s\u001b[0m eta \u001b[36m0:00:01\u001b[0m\r",
      "\u001b[2K   \u001b[90m━━━━━━━━━━━━━━━━━━━━━━━━━━━━━━━━━━━━━━━━\u001b[0m \u001b[32m3.2/3.2 MB\u001b[0m \u001b[31m78.9 MB/s\u001b[0m eta \u001b[36m0:00:00\u001b[0m\n",
      "\u001b[?25hInstalling collected packages: biopython\n",
      "Successfully installed biopython-1.84\n"
     ]
    }
   ],
   "source": [
    "!pip install biopython"
   ]
  },
  {
   "cell_type": "code",
   "execution_count": null,
   "metadata": {
    "colab": {
     "base_uri": "https://localhost:8080/"
    },
    "id": "x2BWF4tHyt0V",
    "outputId": "345bbaf6-08d4-4201-fbfa-463410bd7e98"
   },
   "outputs": [],
   "source": [
    "from Bio import SeqIO\n",
    "import re"
   ]
  },
  {
   "cell_type": "code",
   "execution_count": null,
   "metadata": {
    "colab": {
     "base_uri": "https://localhost:8080/"
    },
    "id": "x2BWF4tHyt0V",
    "outputId": "345bbaf6-08d4-4201-fbfa-463410bd7e98"
   },
   "outputs": [
    {
     "name": "stdout",
     "output_type": "stream",
     "text": [
      "提取完成，结果已保存至 /content/extracted_peptides.txt\n"
     ]
    }
   ],
   "source": [
    "input_fasta_file = \"/content/test_annovar.mutated_protein.fasta\"\n",
    "output_file = \"/content/extracted_peptides.txt\"\n",
    "\n",
    "mutation_aa = \"L\"  # Mutated amino acid, recommended to be detected automatically from the FASTA file\n",
    "fixed_length = 15  # Fixed-length peptide\n",
    "min_length = 12  # Minimum peptide length\n",
    "max_length = 25  # Maximum peptide length\n",
    "\n",
    "# Function to automatically detect the mutated amino acid\n",
    "def detect_mutation_aa(wild_seq, mutant_seq):\n",
    "    for i, (w, m) in enumerate(zip(wild_seq, mutant_seq)):\n",
    "        if w != m:\n",
    "            return m\n",
    "    return None\n",
    "\n",
    "# Function to extract peptides (fixed-length and variable-length)\n",
    "def extract_fixed_peptides(sequence, mutation_aa, fixed_length):\n",
    "    peptides = []\n",
    "    for i in range(len(sequence) - fixed_length + 1):\n",
    "        if sequence[i] == mutation_aa and sequence[i + fixed_length - 1] == mutation_aa:\n",
    "            peptides.append(sequence[i:i + fixed_length])\n",
    "    return peptides\n",
    "\n",
    "def extract_variable_peptides(sequence, mutation_aa, min_length, max_length):\n",
    "    peptides = []\n",
    "    for i in range(len(sequence)):\n",
    "        if sequence[i] == mutation_aa:\n",
    "            for j in range(i + min_length, min(len(sequence), i + max_length) + 1):\n",
    "                if sequence[j - 1] == mutation_aa:\n",
    "                    peptides.append(sequence[i:j])\n",
    "    return peptides\n",
    "\n",
    "with open(output_file, \"w\") as out_file:\n",
    "    for record in SeqIO.parse(input_fasta_file, \"fasta\"):\n",
    "        sequence = str(record.seq)\n",
    "\n",
    "        # Extract fixed-length peptides\n",
    "        fixed_peptides = extract_fixed_peptides(sequence, mutation_aa, fixed_length)\n",
    "\n",
    "        # Extract variable-length peptides (excluding fixed-length)\n",
    "        variable_peptides = extract_variable_peptides(sequence, mutation_aa, min_length, max_length)\n",
    "        variable_peptides = [pep for pep in variable_peptides if len(pep) != fixed_length]\n",
    "\n",
    "        # Write results to the output file\n",
    "        out_file.write(f\">{record.id}_fixed_length_{fixed_length}\\n\")\n",
    "        for peptide in fixed_peptides:\n",
    "            out_file.write(peptide + \"\\n\")\n",
    "\n",
    "        out_file.write(f\">{record.id}_variable_length_{min_length}-{max_length}\\n\")\n",
    "        for peptide in variable_peptides:\n",
    "            out_file.write(peptide + \"\\n\")\n",
    "\n",
    "print(f\"Extraction completed, results saved to {output_file}\")"
   ]
  },
  {
   "cell_type": "code",
   "execution_count": null,
   "metadata": {
    "colab": {
     "base_uri": "https://localhost:8080/"
    },
    "id": "YBI-wGGE0Ppu",
    "outputId": "a7939faa-d426-4f0c-ff95-9c91fdf09ef2"
   },
   "outputs": [
    {
     "name": "stdout",
     "output_type": "stream",
     "text": [
      "Mutation positions:\n",
      "Position 10: G -> D\n"
     ]
    }
   ],
   "source": [
    "fasta_file = \"/content/test_annovar.mutated_protein.fasta\"\n",
    "\n",
    "# Compare two sequences to identify mutation positions and details\n",
    "def detect_mutations(wild_seq, mutant_seq):\n",
    "    mutations = []\n",
    "    for i, (w, m) in enumerate(zip(wild_seq, mutant_seq)):\n",
    "        if w != m:\n",
    "            mutations.append((i + 1, w, m))  # Position starts from 1\n",
    "    return mutations\n",
    "\n",
    "sequences = list(SeqIO.parse(fasta_file, \"fasta\"))\n",
    "if len(sequences) >= 2:\n",
    "    wild_type_seq = str(sequences[0].seq)  # The first sequence is wild-type\n",
    "    mutant_seq = str(sequences[1].seq)    # The second sequence is mutant-type\n",
    "\n",
    "    mutations = detect_mutations(wild_type_seq, mutant_seq)\n",
    "\n",
    "    print(\"Mutation positions:\")\n",
    "    for pos, wild, mutant in mutations:\n",
    "        print(f\"Position {pos}: {wild} -> {mutant}\")\n",
    "else:\n",
    "    print(\"The FASTA file does not contain enough sequences for comparison (at least wild-type and mutant-type are needed).\")"
   ]
  },
  {
   "cell_type": "code",
   "execution_count": null,
   "metadata": {
    "colab": {
     "base_uri": "https://localhost:8080/"
    },
    "id": "qNejcfTMRmOR",
    "outputId": "e86a3d41-ae8f-472e-a3f0-1560a9f24cdf"
   },
   "outputs": [
    {
     "name": "stdout",
     "output_type": "stream",
     "text": [
      "第一个基因的信息：\n",
      "基因ID: line1\n",
      "描述: line1 NM_016255 WILDTYPE\n",
      "序列: MAEGPEEARGHPPGQDDGGGDHEPVPSLRGPPTTAVPCPRDDPQAEPQAPGRPTAPGLAAAAAADKLEPPRELRKRGEAASGSGAELQEQAGCEAPEAAAPRERPARLSAREYSRQVHEWLWQSYCGYLTWHSGLAAFPAYCSPQPSPQSFPSGGAAVPQAAAPPPPQLGYYNPFYFLSPGAAGPDPRTAAGISTPAPVAGLGPRAPHVQASVRATPVTRVGSAAPSRSPSETGRQAGREYVIPSLAHRFMAEMVDFFILFFIKATIVLSIMHLSGIKDISKFAMHYIIEEIDEDTSMEDLQKMMVVALIYRLLVCFYEIICIWGAGGATPGKFLLGLRVVTCDTSVLIAPSRVLVIPSSNVSITTSTIRALIKNFSIASFFPAFITLLFFQHNRTAYDIVAGTIVVKRNGVR*\n"
     ]
    }
   ],
   "source": [
    "fasta_file = \"/content/test_annovar.mutated_protein.fasta\"\n",
    "\n",
    "# Extract the first gene\n",
    "with open(fasta_file, \"r\") as file:\n",
    "    records = list(SeqIO.parse(file, \"fasta\"))  # Parse the FASTA file\n",
    "    if len(records) > 0:\n",
    "        first_record = records[0]  # Get the first gene record\n",
    "        gene_id = first_record.id  # Gene ID\n",
    "        gene_description = first_record.description  # Gene description\n",
    "        gene_sequence = str(first_record.seq)  # Gene sequence\n",
    "\n",
    "        print(\"Information of the first gene:\")\n",
    "        print(f\"Gene ID: {gene_id}\")\n",
    "        print(f\"Description: {gene_description}\")\n",
    "        print(f\"Sequence: {gene_sequence}\")\n",
    "    else:\n",
    "        print(\"No gene information found in the FASTA file!\")"
   ]
  },
  {
   "cell_type": "code",
   "execution_count": null,
   "metadata": {
    "colab": {
     "base_uri": "https://localhost:8080/"
    },
    "id": "EAVbSynMdRq8",
    "outputId": "e6a1decf-fc4a-407d-ec13-5401c52cd09d"
   },
   "outputs": [
    {
     "name": "stdout",
     "output_type": "stream",
     "text": [
      "肽段提取完成，结果保存至 extracted_peptides_length_20_final.txt\n"
     ]
    }
   ],
   "source": [
    "fasta_file = \"/content/test_annovar.mutated_protein.fasta\"\n",
    "output_file = \"extracted_peptides_length_20_final.txt\"\n",
    "\n",
    "# Fixed peptide length\n",
    "fixed_length = 20\n",
    "\n",
    "def parse_mutation(header):\n",
    "    \"\"\"\n",
    "    Parse mutation information, including point mutations and frameshift mutations.\n",
    "    If parsing fails, return (None, None, None).\n",
    "    \"\"\"\n",
    "    # Detect frameshift mutations\n",
    "    fs_match = re.search(r\"p\\.([A-Z])(\\d+)([A-Z]*)fs\\*?\\d*\", header)\n",
    "    if fs_match:\n",
    "        position = int(fs_match.group(2))  # Mutation position\n",
    "        mutated_aa = fs_match.group(3) or \"\"\n",
    "        return position, mutated_aa, \"frameshift\"\n",
    "\n",
    "    # Detect normal mutations\n",
    "    normal_match = re.search(r\"p\\.([A-Z])(\\d+)([A-Z\\*])\", header)\n",
    "    if normal_match:\n",
    "        position = int(normal_match.group(2))\n",
    "        mutated_aa = normal_match.group(3)\n",
    "        return position, mutated_aa, \"normal\"\n",
    "\n",
    "    return None, None, None\n",
    "\n",
    "def extract_peptides(sequence, mutation_position, fixed_length):\n",
    "    \"\"\"\n",
    "    Extract all 15-mer peptides containing the mutation site from the mutated protein sequence.\n",
    "    The mutation site shifts from the last position to the first position within the peptide, attempting 15 different offsets.\n",
    "    \"\"\"\n",
    "    peptides = []\n",
    "    # Since mutation_position is 1-based, convert it to 0-based\n",
    "    start_idx = mutation_position - 1\n",
    "\n",
    "    for offset in range(fixed_length):\n",
    "        start = start_idx - (fixed_length - 1) + offset\n",
    "        end = start + fixed_length\n",
    "\n",
    "        if start >= 0 and end <= len(sequence):\n",
    "            peptide = sequence[start:end]\n",
    "            if \"*\" in peptide:\n",
    "                continue\n",
    "            peptides.append(peptide)\n",
    "\n",
    "    return peptides\n",
    "\n",
    "with open(output_file, \"w\") as out_file:\n",
    "    for record in SeqIO.parse(fasta_file, \"fasta\"):\n",
    "        header = record.description\n",
    "        seq = str(record.seq)\n",
    "\n",
    "        # Parse mutation information\n",
    "        mut_pos, mut_aa, mut_type = parse_mutation(header)\n",
    "\n",
    "        # If no mutation is detected, output a warning\n",
    "        if mut_pos is None:\n",
    "            out_file.write(f\">{header}\\nNo valid mutation detected.\\n\")\n",
    "            continue\n",
    "\n",
    "        # Remove all '*' characters from the sequence for both frameshift and normal mutations\n",
    "        seq = seq.replace(\"*\", \"\")\n",
    "\n",
    "        # Extract 15-mer peptides containing the mutation site\n",
    "        peptides_15mer = extract_peptides(seq, mut_pos, fixed_length)\n",
    "\n",
    "        out_file.write(f\">{header}\\n\")\n",
    "        out_file.write(f\"Mutation Type: {mut_type}\\n\")\n",
    "        if peptides_15mer:\n",
    "            for p in peptides_15mer:\n",
    "                out_file.write(p + \"\\n\")\n",
    "        else:\n",
    "            out_file.write(\"No valid 15-mer peptides found.\\n\")\n",
    "\n",
    "print(f\"Peptide extraction complete, results saved to {output_file}\")"
   ]
  },
  {
   "cell_type": "code",
   "execution_count": null,
   "metadata": {},
   "outputs": [],
   "source": []
  }
 ],
 "metadata": {
  "colab": {
   "provenance": []
  },
  "kernelspec": {
   "display_name": "Python 3 (ipykernel)",
   "language": "python",
   "name": "python3"
  },
  "language_info": {
   "codemirror_mode": {
    "name": "ipython",
    "version": 3
   },
   "file_extension": ".py",
   "mimetype": "text/x-python",
   "name": "python",
   "nbconvert_exporter": "python",
   "pygments_lexer": "ipython3",
   "version": "3.9.12"
  }
 },
 "nbformat": 4,
 "nbformat_minor": 1
}
